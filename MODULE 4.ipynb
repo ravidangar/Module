{
 "cells": [
  {
   "cell_type": "markdown",
   "id": "052174e0",
   "metadata": {},
   "source": [
    "# MODULE 4"
   ]
  },
  {
   "cell_type": "code",
   "execution_count": null,
   "id": "3e6e8df8",
   "metadata": {},
   "outputs": [],
   "source": [
    "# Q1 What is File function in python? What is keywords to create and write file.\n",
    "\n",
    "#'x':create-raise an error when file already exists\n",
    "\n",
    "#\"r\":read -raises an error when file does not exist\n",
    "\n",
    "#'a':append-dores not raises an error when it does not exists(and creates a new file)\n",
    "\n",
    "#'w':write-overwrite,creates a new file if it does not exist"
   ]
  },
  {
   "cell_type": "code",
   "execution_count": null,
   "id": "f807607b",
   "metadata": {},
   "outputs": [],
   "source": [
    "# Q2 Write a Python program to read an entire text file.\n",
    "f2=open(\"ravi.txt\",'r')\n",
    "f2.read()"
   ]
  },
  {
   "cell_type": "code",
   "execution_count": null,
   "id": "d005b3ea",
   "metadata": {},
   "outputs": [],
   "source": [
    "# Q3 Write a Python program to append text to a file and display the text.\n",
    "f2=open('ravi.txt','a')\n",
    "f2.write('ravi')"
   ]
  },
  {
   "cell_type": "code",
   "execution_count": null,
   "id": "bf400ea1",
   "metadata": {},
   "outputs": [],
   "source": [
    "# Q4 Write a Python program to read first n lines of a file.\n",
    "n = int(input(\"\\n\\t\\tEnter Lines To Read : \"))\n",
    "f = open(\"ravi.txt\",\"r\")\n",
    "for i in range(n):\n",
    "    print(f.readline())\n"
   ]
  },
  {
   "cell_type": "code",
   "execution_count": null,
   "id": "85c46e97",
   "metadata": {},
   "outputs": [],
   "source": [
    "# Q5 Write a Python program to read last n lines of a file.\n",
    "a_file = open(\"ravi.txt\", \"r\")\n",
    "lines = a_file.readlines()\n",
    "last_lines = lines[-1:]"
   ]
  },
  {
   "cell_type": "code",
   "execution_count": null,
   "id": "d6d915bc",
   "metadata": {},
   "outputs": [],
   "source": [
    "# Q6 Write a Python program to read a file line by line and store it into a list\n",
    "L = [\"To\\n\", \"op\\n\", \"ps\\n\"]\n",
    "  \n",
    "# writing to file\n",
    "file1 = open('ravi.txt', 'w')\n",
    "file1.writelines(L)\n",
    "file1.close()\n",
    "  \n",
    "file1 = open('myfile.txt', 'r')\n",
    "Lines = file1.readlines()\n",
    "  \n",
    "count = 0\n",
    "for line in Lines:\n",
    "    count += 1\n",
    "    print(\"Line{}: {}\".format(count, line.strip()))"
   ]
  },
  {
   "cell_type": "code",
   "execution_count": null,
   "id": "986617bb",
   "metadata": {},
   "outputs": [],
   "source": [
    "# Q7 write a Python program to read a file line by line store it into a variable.\n",
    "def file_read(fname):\n",
    "        with open (fname, \"r\") as myfile:\n",
    "                data=myfile.readlines()\n",
    "                print(data)\n",
    "file_read('ravi.txt')\n"
   ]
  },
  {
   "cell_type": "code",
   "execution_count": null,
   "id": "1cef2bce",
   "metadata": {},
   "outputs": [],
   "source": [
    "# Q8  Write a python program to find the longest words in text file.\n",
    "fin = open(\"ravi.txt\",\"r\")\n",
    "str = fin.read()\n",
    "words = str.split()\n",
    "max_len = len(max(words, key=len))\n",
    "for word in words:\n",
    "    if len(word)==max_len:\n",
    "        longest_word =word\n",
    "         \n",
    "print(longest_word)"
   ]
  },
  {
   "cell_type": "code",
   "execution_count": null,
   "id": "7824208b",
   "metadata": {},
   "outputs": [],
   "source": [
    "# Q9 Write a Python program to count the number of lines in a text file.\n",
    "with open(r\"ravi.txt\", 'r') as fp:\n",
    "    lines = len(fp.readlines())\n",
    "    print('Total Number of lines:', lines)"
   ]
  },
  {
   "cell_type": "code",
   "execution_count": null,
   "id": "ef20ae56",
   "metadata": {},
   "outputs": [],
   "source": [
    "# Q10 Write a Python program to count the frequency of words in a file.\n",
    "from collections import Counter\n",
    "def word_count(fname):\n",
    "        with open(fname) as f:\n",
    "                return Counter(f.read().split())\n",
    "\n",
    "print(\"Number of words :\",word_count(\"ravi.txt\"))"
   ]
  },
  {
   "cell_type": "code",
   "execution_count": null,
   "id": "d24efd13",
   "metadata": {},
   "outputs": [],
   "source": [
    "# Q11 Write a Python program to write a list to a file.\n",
    "a_list = [\"abc\", \"def\", \"ghi\"]\n",
    "textfile = open(\"a_file.txt\", \"w\")\n",
    "for element in a_list:\n",
    "    textfile.write(element + \"\\n\")\n",
    "textfile.close()\n"
   ]
  },
  {
   "cell_type": "code",
   "execution_count": null,
   "id": "f736e964",
   "metadata": {},
   "outputs": [],
   "source": [
    "# Q12 Write a Python program to copy the contents of a file to another file.\n",
    "with open('first.txt','r') as firstfile, open('second.txt','w') as secondfile:\n",
    "      \n",
    "    for line in firstfile:\n",
    "               \n",
    "            secondfile.write(line)"
   ]
  },
  {
   "cell_type": "code",
   "execution_count": null,
   "id": "43d2f320",
   "metadata": {},
   "outputs": [],
   "source": [
    "# Q13 Explain Exception handling? What is an Error in Python?\n",
    "# Exception handling:Exception handling is the process of responding to unwanted or unexpected events...\n",
    "# Error :Error is some flaw in your code that stops the compilation of the code and hence doesn’t allow the same code to run."
   ]
  },
  {
   "cell_type": "code",
   "execution_count": null,
   "id": "a1518b53",
   "metadata": {},
   "outputs": [],
   "source": [
    "#  Q14 How many except statements can a try-except block have? Name Some built-in exception classes:\n",
    "# >one except statement\n",
    "# >ArithmeticError\tRaised when an error occurs in numeric calculations\n",
    "# AssertionError,AttributeError,Exception,EOFError,GeneratorExit,ImportError,IndentationError,IndexError,\n",
    "# KeyError,LookupError,MemoryError,NameError,NotImplementedError,OSError,OverflowError,ReferenceError,RuntimeError,\n",
    "# StopIteration,SyntaxError,\n",
    "# SystemError,SystemExit,TypeError,UnicodeError,UnicodeDecodeError,UnicodeTranslateError,ValueError,ZeroDivisionError"
   ]
  },
  {
   "cell_type": "code",
   "execution_count": null,
   "id": "6630942d",
   "metadata": {},
   "outputs": [],
   "source": [
    "# Q15 When will the else part of try-except-else be executed?\n",
    "# > when no exception occurs"
   ]
  },
  {
   "cell_type": "code",
   "execution_count": null,
   "id": "6fb794a0",
   "metadata": {},
   "outputs": [],
   "source": [
    "# Q16 Can one block of except statements handle multiple exception?\n",
    "#Ans: Yes, like except TypeError, SyntaxError [,…]"
   ]
  },
  {
   "cell_type": "code",
   "execution_count": null,
   "id": "4d768d50",
   "metadata": {},
   "outputs": [],
   "source": [
    "# Q17 When is the finally block executed?\n",
    "# The finally block always executes when the try block exits. \n",
    "# This ensures that the finally block is executed even if an unexpected exception occurs."
   ]
  },
  {
   "cell_type": "code",
   "execution_count": null,
   "id": "539225fb",
   "metadata": {},
   "outputs": [],
   "source": [
    "# Q18 What happens when ,,1\"== 1 is executed?\n",
    "# where we get false "
   ]
  },
  {
   "cell_type": "code",
   "execution_count": null,
   "id": "3cb78672",
   "metadata": {},
   "outputs": [],
   "source": [
    "# Q19  When will the else part of try-except-else be executed?\n",
    "# >when no exception occurs"
   ]
  },
  {
   "cell_type": "code",
   "execution_count": 21,
   "id": "f56856b0",
   "metadata": {},
   "outputs": [
    {
     "name": "stdout",
     "output_type": "stream",
     "text": [
      "Enter a number: 6\n",
      "Not an odd number!\n"
     ]
    }
   ],
   "source": [
    "# Q20 Write python program that user to enter only odd numbers, else will raise an exception.\n",
    "\n",
    "try:\n",
    "    num = int(input(\"Enter a number: \"))\n",
    "    assert num % 2 == 1\n",
    "except:\n",
    "    print(\"Not an odd number!\")\n",
    "else:\n",
    "    print(reciprocal)"
   ]
  },
  {
   "cell_type": "code",
   "execution_count": null,
   "id": "317775e9",
   "metadata": {},
   "outputs": [],
   "source": [
    "# Q21 What are oops concepts? Is multiple inheritance supported in python.\n",
    "# OOPS:object-oriented Programming \n",
    "# Yes,Multiple inheritance supported in python"
   ]
  },
  {
   "cell_type": "code",
   "execution_count": null,
   "id": "71cadb48",
   "metadata": {},
   "outputs": [],
   "source": [
    "# Q22 How to Define a Class in Python? What Is Self? Give An Example Of A Python Class\n",
    "# Class:A Class is like an object constructor, or a \"blueprint\" for creating objects.\n",
    "\n",
    "#Self:The self parameter is a reference to the current instance of the class, and is used to access variables that belongs to the class. \n",
    "class a:\n",
    "    def __init__(self,age):\n",
    "        self.age=age\n",
    "a1=a(23)\n",
    "a1.age"
   ]
  },
  {
   "cell_type": "code",
   "execution_count": null,
   "id": "4330cd12",
   "metadata": {},
   "outputs": [],
   "source": [
    "# Q23Write a Python class named Rectangle constructed by a length and width and a method which will compute the area of a rectangle\n",
    "class Rectangle():\n",
    "    def __init__(self, l, w):\n",
    "        self.length = l\n",
    "        self.width  = w\n",
    "\n",
    "    def rectangle_area(self):\n",
    "        return self.length*self.width\n",
    "\n",
    "newRectangle = Rectangle(12, 10)\n",
    "print(newRectangle.rectangle_area())"
   ]
  },
  {
   "cell_type": "code",
   "execution_count": null,
   "id": "3832a3f4",
   "metadata": {},
   "outputs": [],
   "source": [
    "# Q24 Write a Python class named Circle constructed by a radius and two methods which will compute the area and \n",
    "# the perimeter of a circle\n",
    "class Circle():\n",
    "    def __init__(self, r):\n",
    "        self.radius = r\n",
    "\n",
    "    def area(self):\n",
    "        return self.radius**2*3.14\n",
    "    \n",
    "    def perimeter(self):\n",
    "        return 2*self.radius*3.14\n",
    "\n",
    "NewCircle = Circle(8)\n",
    "print(NewCircle.area())\n",
    "print(NewCircle.perimeter())"
   ]
  },
  {
   "cell_type": "code",
   "execution_count": null,
   "id": "0bdadc0d",
   "metadata": {},
   "outputs": [],
   "source": [
    "#  Q25 Write a Python class named Circle constructed by a radius and two methods which will compute the area and \n",
    "# the perimeter of a circle\n",
    "class Circle():\n",
    "\n",
    "    def radius(self,radius):\n",
    "        r = radius\n",
    "    def area(self,r):\n",
    "        area = 3.142*r*r\n",
    "        print(\"Area of the circle is: \",area)\n",
    "    def peri(self,r):\n",
    "        peri = 2*3.14*r\n",
    "        print(\"Perimeter of the circle is: \",peri)\n",
    "\n",
    "c = Circle()\n",
    "radius = int(input(\"Enter the radius of circle: \"))\n",
    "c.area(radius)\n",
    "c.peri(radius)"
   ]
  },
  {
   "cell_type": "code",
   "execution_count": null,
   "id": "af936b56",
   "metadata": {},
   "outputs": [],
   "source": [
    "#  Q26 Explain Inheritance in Python with an example? What is init? Or What Is A Constructor In Python?\n",
    "# Inheritance: The creation of an instance of a class.\n",
    "#  init :All classes have a function called __init__(), which is always executed when the class is being initiated.\n",
    "# constructor:A constructor is a special type of method (function) which is used to initialize the instance members of the class.\n",
    "class a:\n",
    "    \n",
    "    def __init__(self,age):\n",
    "        self.age=age\n",
    "    \n",
    "    def more(self):\n",
    "        print(\"India\")\n",
    "class b(a):\n",
    "    def __init__(self,hight):\n",
    "        self.hight=hight\n",
    "a1=a(23)\n",
    "b1=a(6)\n",
    "b1.more()"
   ]
  },
  {
   "cell_type": "code",
   "execution_count": null,
   "id": "035c8f22",
   "metadata": {},
   "outputs": [],
   "source": [
    "# Q27 What is Instantiation in terms of OOP terminology?\n",
    "# In short, Python’s instantiation process starts with a call to the class constructor,\n",
    "# which triggers the instance creator, .__new__(), to create a new empty object.\n",
    "# The process continues with the instance initializer, .__init__(), \n",
    "# which takes the constructor’s arguments to initialize the newly created object.\n"
   ]
  },
  {
   "cell_type": "code",
   "execution_count": null,
   "id": "e24cdb35",
   "metadata": {},
   "outputs": [],
   "source": [
    "# Q28 What is used to check whether an object o is an instance of class A?\n",
    "#Isinstance(o,A)"
   ]
  },
  {
   "cell_type": "code",
   "execution_count": null,
   "id": "90402794",
   "metadata": {},
   "outputs": [],
   "source": [
    "# Q29 What relationship is appropriate for Course and Faculty?\n",
    "# >Association\n"
   ]
  },
  {
   "cell_type": "code",
   "execution_count": null,
   "id": "600068a2",
   "metadata": {},
   "outputs": [],
   "source": [
    "# Q30  What relationship is appropriate for Student and Person?\n",
    "# >Inheritance\n"
   ]
  },
  {
   "cell_type": "code",
   "execution_count": null,
   "id": "b757db65",
   "metadata": {},
   "outputs": [],
   "source": []
  },
  {
   "cell_type": "code",
   "execution_count": null,
   "id": "5aa469f4",
   "metadata": {},
   "outputs": [],
   "source": []
  }
 ],
 "metadata": {
  "kernelspec": {
   "display_name": "Python 3 (ipykernel)",
   "language": "python",
   "name": "python3"
  },
  "language_info": {
   "codemirror_mode": {
    "name": "ipython",
    "version": 3
   },
   "file_extension": ".py",
   "mimetype": "text/x-python",
   "name": "python",
   "nbconvert_exporter": "python",
   "pygments_lexer": "ipython3",
   "version": "3.9.12"
  }
 },
 "nbformat": 4,
 "nbformat_minor": 5
}
