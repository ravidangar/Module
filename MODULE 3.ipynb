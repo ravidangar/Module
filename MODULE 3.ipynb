{
 "cells": [
  {
   "cell_type": "code",
   "execution_count": 19,
   "id": "93a04e85",
   "metadata": {},
   "outputs": [
    {
     "name": "stdout",
     "output_type": "stream",
     "text": [
      "[6, 5, 4, 3, 2, 1]\n"
     ]
    }
   ],
   "source": [
    "# Q1 What is List? How will you reverse a list?\n",
    "# list:denoted by \"[]\"\n",
    "# list is a collection type object ,list is mutable or changeable, ordered sequence of elements,indexed and duplication allow\n",
    "# reverse a list: \n",
    "list1=[1,2,3,4,5,6]\n",
    "print(list1[::-1])"
   ]
  },
  {
   "cell_type": "code",
   "execution_count": null,
   "id": "94429f03",
   "metadata": {},
   "outputs": [],
   "source": [
    "# Q2 How will you remove last object from a list?\n",
    "list1=[1,2,34,5,67,34]\n",
    "list1.pop()\n",
    "print(list1)"
   ]
  },
  {
   "cell_type": "code",
   "execution_count": null,
   "id": "d1f32493",
   "metadata": {},
   "outputs": [],
   "source": [
    "# Q3 Suppose list1 is [2, 33, 222, 14, and 25], what is list1 [-1]\n",
    "list1=[2, 33, 222, 14,25]\n",
    "list1[-1]"
   ]
  },
  {
   "cell_type": "code",
   "execution_count": null,
   "id": "f53ca33c",
   "metadata": {},
   "outputs": [],
   "source": [
    "# Q4Differentiate between append () and extend () methods?\n",
    "list1=[12,3,4,5,6,7]\n",
    "list2=[9,8,7,6,5,43]\n",
    "list1.append(\"2121\")\n",
    "list2.extend(\"2121\")\n",
    "print(list1)\n",
    "print(list2)"
   ]
  },
  {
   "cell_type": "code",
   "execution_count": null,
   "id": "a3e3763f",
   "metadata": {},
   "outputs": [],
   "source": [
    "# Q5 Write a Python function to get the largest number, smallest num and sum of all from a list\n",
    "list1=[12,3,4,5,6,7,86]\n",
    "list1.sort()\n",
    "print(list1[0])#smallest number\n",
    "print(list1[-1])#largest number\n",
    "print(sum(list1))#sum of list"
   ]
  },
  {
   "cell_type": "code",
   "execution_count": 15,
   "id": "5460d934",
   "metadata": {},
   "outputs": [
    {
     "name": "stdout",
     "output_type": "stream",
     "text": [
      "2\n"
     ]
    }
   ],
   "source": [
    "# Q6 How will you compare two lists?\n",
    "list1=[1,2,3,4]\n",
    "list2=[2,32,12,32]\n",
    "for i in list1:\n",
    "    for j in list2:\n",
    "        if i==j:\n",
    "            print(i)\n",
    "            "
   ]
  },
  {
   "cell_type": "code",
   "execution_count": 18,
   "id": "a152af88",
   "metadata": {},
   "outputs": [
    {
     "name": "stdout",
     "output_type": "stream",
     "text": [
      "rar\n",
      "rr\n"
     ]
    }
   ],
   "source": [
    "#  Q7 Write a Python program to count the number of strings where the string length is 2 or more and\n",
    "# the first and last character are same from a given list of strings.\n",
    "list1=[\"ravi\",\"d\",\"an\",\"rar\",\"rr\"]\n",
    "for i in list1:\n",
    "    if len(i)>=2 and i[0]==i[-1]:\n",
    "        print(i)"
   ]
  },
  {
   "cell_type": "code",
   "execution_count": null,
   "id": "103c2092",
   "metadata": {},
   "outputs": [],
   "source": [
    "# Q8 Write a Python program to remove duplicates from a list.\n",
    "list1=[1,2,3,45,64,2,12,43,1,45]\n",
    "list2=[]\n",
    "for i in list1:\n",
    "    if i not in list2:\n",
    "        list2.append(i)\n",
    "print(list2)\n",
    "    "
   ]
  },
  {
   "cell_type": "code",
   "execution_count": null,
   "id": "524e4e28",
   "metadata": {},
   "outputs": [],
   "source": [
    "# Q9 Write a Python program to check a list is empty or not.\n",
    "list1=[1,2,3,4,5]\n",
    "list2=[]\n",
    "if len(list1) == 0:\n",
    "    print(\"this list is empty\" )\n",
    "else:\n",
    "    print(\"this list is not empty\" )"
   ]
  },
  {
   "cell_type": "code",
   "execution_count": null,
   "id": "ab39c5d2",
   "metadata": {},
   "outputs": [],
   "source": [
    "# Q10 Write a Python function that takes two lists and returns true if they have at least one common member.\n",
    "list1=[1,2,3,4,56]\n",
    "list2=[9,8,56,7,6,5]\n",
    "for i in list1:\n",
    "    for j in list2:\n",
    "        if i==j :\n",
    "            print(\"true\")\n",
    "    "
   ]
  },
  {
   "cell_type": "code",
   "execution_count": 14,
   "id": "25ad94bb",
   "metadata": {},
   "outputs": [
    {
     "name": "stdout",
     "output_type": "stream",
     "text": [
      "[1, 4, 9, 16, 25]\n",
      "[256, 289, 324, 361, 400]\n"
     ]
    }
   ],
   "source": [
    "# Q11 Write a Python program to generate and print a list of first and last 5 elements where the values are square of\n",
    "# numbers between 1 and 30.\n",
    "def p1():\n",
    "    l = list()\n",
    "    for i in range(1,21):\n",
    "        l.append(i**2)\n",
    "    print(l[:5])\n",
    "    print(l[-5:])\n",
    "\n",
    "p1()\n"
   ]
  },
  {
   "cell_type": "code",
   "execution_count": null,
   "id": "8337ba40",
   "metadata": {},
   "outputs": [],
   "source": [
    "# Q12 Write a Python function that takes a list and returns a new list with unique elements of the first list.\n",
    "list1=[1,2,3,45,64,2,12,43,1,45]\n",
    "list2=[]\n",
    "for i in list1:\n",
    "    if i not in list2:\n",
    "        list2.append(i)\n",
    "print(list2)\n"
   ]
  },
  {
   "cell_type": "code",
   "execution_count": null,
   "id": "bbfddaf4",
   "metadata": {},
   "outputs": [],
   "source": [
    "# Q13 Write a Python program to convert a list of characters into a string.\n",
    "list1=[1,2,3,4,5,6]\n",
    "s1=str(list1)\n",
    "print(type(s1))"
   ]
  },
  {
   "cell_type": "code",
   "execution_count": null,
   "id": "d7806029",
   "metadata": {},
   "outputs": [],
   "source": [
    "# Q14 Write a Python program to select an item randomly from a list\n",
    "list1=[1,2,3,4,5,4,4,6,7]\n",
    "Randam_Item=4\n",
    "if Randam_Item in list1:\n",
    "    print(Randam_Item)"
   ]
  },
  {
   "cell_type": "code",
   "execution_count": null,
   "id": "0e8adfcd",
   "metadata": {},
   "outputs": [],
   "source": [
    "# Q15 Write a Python program to find the second smallest number in a list.\n",
    "list1=[1,2,3,4,5,343,2,31,2322,14,5,6554,3,55,1,22,12112,23,6,7,8]\n",
    "list1.sort()\n",
    "list2=[]\n",
    "for i in list1:\n",
    "    if i not in  list2:\n",
    "        list2.append(i)\n",
    "print(list2[1:2:])"
   ]
  },
  {
   "cell_type": "code",
   "execution_count": null,
   "id": "c3a7c1e5",
   "metadata": {},
   "outputs": [],
   "source": [
    "# Q16 Write a Python program to get unique values from a list\n",
    "list1=[1,2,3,45,64,2,12,43,1,45]\n",
    "list2=[]\n",
    "for i in list1:\n",
    "    if i not in list2:\n",
    "        list2.append(i)\n",
    "print(list2)\n"
   ]
  },
  {
   "cell_type": "code",
   "execution_count": null,
   "id": "b746b014",
   "metadata": {},
   "outputs": [],
   "source": [
    "# Q17 Write a Python program to check whether a list contains a sub list\n",
    "list1=[1,2,3,4,5,[1,2,3,3],123,123,143]\n",
    "for i in list1:\n",
    "    if type(i)==list:\n",
    "        print(\"Yes,Sub_list Present In List\")"
   ]
  },
  {
   "cell_type": "code",
   "execution_count": null,
   "id": "44d9f726",
   "metadata": {},
   "outputs": [],
   "source": [
    "# Q18 Write a Python program to split a list into different variables.\n",
    "list1,list2,list3=[1,2,3,1,2,3,2,2],[23,4,5,67,54],[23,32,43,43]\n",
    "print(list2)\n",
    "print(list1)\n",
    "print(list3)"
   ]
  },
  {
   "cell_type": "code",
   "execution_count": null,
   "id": "74faae89",
   "metadata": {},
   "outputs": [],
   "source": [
    "# Q19 What is tuple? Difference between list and tuple\n",
    "# Tuple:tuple is denoted by ()\n",
    "# Tuple is immutable,ordered,indexed and duplication are allowed,The implication of iterations is comparatively Faster\n",
    "# list:denoted by \"[]\"\n",
    "# list is mutable or changeable, ordered sequence of elements,indexed and duplication allowed,The implication of iterations is Time-consuming"
   ]
  },
  {
   "cell_type": "code",
   "execution_count": null,
   "id": "cb3246c4",
   "metadata": {},
   "outputs": [],
   "source": [
    "# Q20 Write a Python program to create a tuple with different data types\n",
    "tup1=(1,2,3,\"ravi\",None,True,False,2.3,[27,5767],(876,776,98),{1,2,3,4},{\"a\":12,\"b\":65})"
   ]
  },
  {
   "cell_type": "code",
   "execution_count": null,
   "id": "6a766948",
   "metadata": {},
   "outputs": [],
   "source": [
    "# Q21 Write a Python program to create a tuple with numbers.\n",
    "tup1=(9,89,87,78)"
   ]
  },
  {
   "cell_type": "code",
   "execution_count": null,
   "id": "fb24ef55",
   "metadata": {},
   "outputs": [],
   "source": [
    "# Q22 Write a Python program to convert a tuple to a string.\n",
    "tup1=(\"r\",\"a\",\"v\",\"i\")\n",
    "print(\"\".join(tup1))"
   ]
  },
  {
   "cell_type": "code",
   "execution_count": null,
   "id": "762b7465",
   "metadata": {},
   "outputs": [],
   "source": [
    "# Q23 Write a Python program to check whether an element exists within a tuple\n",
    "tup1=(1,2,6,7,87,6,765,87,5)\n",
    "tup2=()\n",
    "if len(tup2)>1:\n",
    "    print(tup1)"
   ]
  },
  {
   "cell_type": "code",
   "execution_count": null,
   "id": "9c5141c8",
   "metadata": {},
   "outputs": [],
   "source": [
    "# Q24 Write a Python program to find the length of a tuple.\n",
    "tup1=(23,4,5,2,3,47,8,6)\n",
    "print(len(tup1))"
   ]
  },
  {
   "cell_type": "code",
   "execution_count": null,
   "id": "587b0135",
   "metadata": {},
   "outputs": [],
   "source": [
    "# Q25 Write a Python program to convert a list to a tuple.\n",
    "tup1=(999,5,67876,5544557,556554)\n",
    "list1=[]\n",
    "for i in tup1:\n",
    "    list1.append(i)\n",
    "print(list1)\n"
   ]
  },
  {
   "cell_type": "code",
   "execution_count": null,
   "id": "565de574",
   "metadata": {},
   "outputs": [],
   "source": [
    "# Q26 Write a Python program to reverse a tuple.\n",
    "tup1=(34,58,98,76)\n",
    "tup2=tup1[::-1]\n",
    "print(tup2)"
   ]
  },
  {
   "cell_type": "code",
   "execution_count": null,
   "id": "e745f205",
   "metadata": {},
   "outputs": [],
   "source": [
    "#  Q27 Write a Python program to replace last value of tuples in a list.\n",
    "tup1=(12,34,21,76)\n",
    "list1=[]\n",
    "a=len(tup1)\n",
    "for i in tup1:\n",
    "    if tup1.index(i)== (a-1):\n",
    "        list1.append(i)\n",
    "        print(list1)"
   ]
  },
  {
   "cell_type": "code",
   "execution_count": null,
   "id": "60ddcbcf",
   "metadata": {},
   "outputs": [],
   "source": [
    "# Q28  Write a Python program to find the repeated items of a tuple.\n",
    "tup1=(1,21,25,6,57,8,98,78,25,98)\n",
    "for i in tup1:\n",
    "    if tup1.count(i)==2:\n",
    "        print(i)                 "
   ]
  },
  {
   "cell_type": "code",
   "execution_count": null,
   "id": "bceeff92",
   "metadata": {},
   "outputs": [],
   "source": [
    "# Q29 Write a Python program to remove an empty tuple(s) from a list of tuples.\n",
    "list1=[1,232,23,(12,),(),28,97665]\n",
    "for i in list1:\n",
    "    if type(i)==tuple:\n",
    "        if len(i)==0:\n",
    "            list1.remove(i)\n",
    "list1"
   ]
  },
  {
   "cell_type": "code",
   "execution_count": null,
   "id": "e8898f9a",
   "metadata": {},
   "outputs": [],
   "source": [
    "# Q30 Write a Python program to unzip a list of tuples into individual lists.\n",
    "list1=[1,2,3,4,(34,4,5,65,87),34,76,543,78,(343,45,43)]\n",
    "list2=[]\n",
    "for i in list1:\n",
    "    if type(i)==tuple:\n",
    "        for j in i:\n",
    "            list2.append(j)\n",
    "print(list2)"
   ]
  },
  {
   "cell_type": "code",
   "execution_count": null,
   "id": "85712785",
   "metadata": {},
   "outputs": [],
   "source": [
    "# Q31 Write a Python program to convert a list of tuples into a dictionary.\n",
    "list1=[3,4,(12,13),5,6,(12,(23,12))]\n",
    "tup1=()\n",
    "for i in list1:\n",
    "    if type(i)==tuple:\n",
    "        dict1=dict({i})\n",
    "        print(dict1)"
   ]
  },
  {
   "cell_type": "code",
   "execution_count": null,
   "id": "80c45370",
   "metadata": {},
   "outputs": [],
   "source": [
    "# Q32 How will you create a dictionary using tuples in python?\n",
    "tup1=(1,2,3,43,2,1,3)\n",
    "dic1={}\n",
    "for i in tup1:\n",
    "    dic1.setdefault(tup1)\n",
    "print(dic1)"
   ]
  },
  {
   "cell_type": "code",
   "execution_count": null,
   "id": "fc5abec3",
   "metadata": {},
   "outputs": [],
   "source": [
    "# Q33 Write a Python script to sort (ascending and descending) a dictionary by value.\n",
    "dict1={7:8,2:4,5:6,6:0}\n",
    "list2=list(dict1.items())\n",
    "def f1(x):\n",
    "    return x[-1]\n",
    "list2.sort(key=f1,reverse=True)\n",
    "dict(list2)\n"
   ]
  },
  {
   "cell_type": "code",
   "execution_count": null,
   "id": "dbfc6273",
   "metadata": {},
   "outputs": [],
   "source": [
    "# Q34  Write a Python script to concatenate following dictionaries to create a new one\n",
    "dic1={\"a\":1, \"b\":5}\n",
    "dic2={\"c\":2, \"d\":4}\n",
    "dic4 = {}\n",
    "for d in (dic1, dic2): \n",
    "    dic4.update(d)\n",
    "print(dic4)"
   ]
  },
  {
   "cell_type": "code",
   "execution_count": null,
   "id": "00284d04",
   "metadata": {},
   "outputs": [],
   "source": [
    "# Q35 Write a Python script to check if a given key already exists in a dictionary.\n",
    "dict1={\"a\":1,\"b\":2}\n",
    "key_is=\"c\"\n",
    "for i in dict1:\n",
    "    if i==key_is:\n",
    "        print(\"Yes Key Is Already Exists \")"
   ]
  },
  {
   "cell_type": "code",
   "execution_count": null,
   "id": "bfc9b314",
   "metadata": {},
   "outputs": [],
   "source": [
    "# Q36  How Do You Traverse Through A Dictionary Object In Python?\n",
    "dict1={\"a\":1,\"b\":2,\"c\":3}\n",
    "for i in dict1:\n",
    "    print(i)"
   ]
  },
  {
   "cell_type": "code",
   "execution_count": null,
   "id": "db502880",
   "metadata": {},
   "outputs": [],
   "source": [
    "# Q37 How Do You Check The Presence Of A Key In A Dictionary?\n",
    "dict1={\"a\":1.\"b\":2,\"c\":3}\n",
    "key_is=\"c\"\n",
    "for i in dict1:\n",
    "    if i==key_is:\n",
    "        print(\"Yes Key Is Already Presence \")\n"
   ]
  },
  {
   "cell_type": "code",
   "execution_count": null,
   "id": "070724bc",
   "metadata": {},
   "outputs": [],
   "source": [
    "# Q38  Write a Python script to print a dictionary where the keys are numbers between 1 and 15.\n",
    "dict1={1:12,3:43,65:54,4:23,7:76,15:34}\n",
    "for i in dict1:\n",
    "    if i in range(1,16):\n",
    "        print(\"In Dict1  keys are numbers between 1 and 15 Is:\", i)"
   ]
  },
  {
   "cell_type": "code",
   "execution_count": null,
   "id": "875b3077",
   "metadata": {},
   "outputs": [],
   "source": [
    "#Q39 Write a Python program to check multiple keys exists in a dictionary\n",
    "dict1 = {\"a\" : 1, \"b\" : 2, \"c\" :3}\n",
    "  \n",
    "print(dict1.keys() >= {\"a\", \"c\"})"
   ]
  },
  {
   "cell_type": "code",
   "execution_count": null,
   "id": "83875534",
   "metadata": {},
   "outputs": [],
   "source": [
    "# Q40 Write a Python script to merge two Python dictionaries\n",
    "d1 = {\"a\": 132, \"b\": 2323}\n",
    "d2 = {\"c\": 34533, \"d\": 4544,\"e\":2398}\n",
    "d = d1.copy()\n",
    "d.update(d2)\n",
    "print(d)"
   ]
  },
  {
   "cell_type": "code",
   "execution_count": null,
   "id": "5098ee0d",
   "metadata": {},
   "outputs": [],
   "source": [
    "# Q41  Write a Python program to map two lists into a dictionary.\n",
    "list1=[\"r\",\"a\",\"v\",\"i\"]\n",
    "list2=[9,0,1,6]\n",
    "dict1=dict(zip(list1,list2))\n",
    "print(dict1)"
   ]
  },
  {
   "cell_type": "code",
   "execution_count": null,
   "id": "7e532908",
   "metadata": {},
   "outputs": [],
   "source": [
    "#Q42 Write a Python program to combine two dictionary adding values for common keys.\n",
    "\n",
    "dict1={\"a\":20,\"b\":30}\n",
    "dict2={\"a\":300,\"b\":801}\n",
    "\n",
    "for i in dict2:\n",
    "    if i in dict1:\n",
    "        dict2[i] = dict2[i] + dict1[i]     \n",
    "        \n",
    "print(dict2)"
   ]
  },
  {
   "cell_type": "code",
   "execution_count": null,
   "id": "93381c00",
   "metadata": {},
   "outputs": [],
   "source": [
    "#Q43 Write a Python program to print all unique values in a dictionary.\n",
    "\n",
    "dict1 = [{\"a\":1}, {\"a\": 2}, {\"b\": 3}, {\"b\": 5}, {\"c\":5}, {\"c\":1},{\"d\":3}]\n",
    "\n",
    "u_values = set( val for i in dict1 for val in i.values())\n",
    "\n",
    "print(\"Unique Values: \",u_values)"
   ]
  },
  {
   "cell_type": "code",
   "execution_count": null,
   "id": "a525853b",
   "metadata": {},
   "outputs": [],
   "source": [
    "# Q44 Why Do You Use the Zip () Method in Python?\n",
    "\n",
    "# Python’s zip() function creates an iterator that will aggregate elements from two or more iterables.\n",
    "# You can use the resulting iterator to quickly and consistently solve common programming problems, like creating dictionaries."
   ]
  },
  {
   "cell_type": "code",
   "execution_count": 13,
   "id": "de01b2b2",
   "metadata": {},
   "outputs": [
    {
     "name": "stdout",
     "output_type": "stream",
     "text": [
      "ac\n",
      "ad\n",
      "bc\n",
      "bd\n"
     ]
    }
   ],
   "source": [
    "#  Q45 Write a Python program to create and display all combinations of letters,selecting each letter from a different key in a dictionary.\n",
    "# Sample data: {'1': ['a','b'], '2': ['c','d']}\n",
    "# Expected Output: ac ad bc bd\n",
    "\n",
    "\n",
    "my_dict= {'1':['a', 'b'], '2':['c', 'd']}\n",
    "my_list= list(my_dict.values())\n",
    "for i in my_list[0]:\n",
    "    for j in my_list[1]:\n",
    "        print(i+j)\n",
    "    "
   ]
  },
  {
   "cell_type": "code",
   "execution_count": null,
   "id": "b8301893",
   "metadata": {},
   "outputs": [],
   "source": [
    "#  Q46 Write a Python program to find the highest 3 values in a dictionary\n",
    "\n",
    "dic1={\"a\":1,\"b\":2,\"c\":3,\"d\":4,\"e\":7,\"g\":8}\n",
    "list1=list(dic1.values())\n",
    "list1.sort()\n",
    "print(list1[-1:-4:-1])"
   ]
  },
  {
   "cell_type": "code",
   "execution_count": null,
   "id": "66521726",
   "metadata": {},
   "outputs": [],
   "source": [
    "# Q47 write a Python program to combine values in python list of dictionaries.\n",
    "# Sample data: [{'item': 'item1', 'amount': 400}, {'item': 'item2', 'amount': 300},{'item': 'item1', 'amount': 750}]\n",
    "# Expected Output: Counter ({'item1': 1150, 'item2': 1050})\n",
    "d1=[{'item': 'item1', 'amount': 400}, {'item': 'item2', 'amount': 300},{'item': 'item1', 'amount': 750}]\n",
    "\n",
    "    "
   ]
  },
  {
   "cell_type": "code",
   "execution_count": 6,
   "id": "ee20624c",
   "metadata": {},
   "outputs": [
    {
     "name": "stdout",
     "output_type": "stream",
     "text": [
      "r\n",
      "{ r : 1 } ,"
     ]
    }
   ],
   "source": [
    "# Q48 Write a Python program to create a dictionary from a string.Note: Track the count of the letters from the string. \n",
    "# Sample string:'w3resource'\n",
    "# Expected output: {'3': 1,’s’: 1, 'r': 2, 'u': 1, 'w': 1, 'c': 1, 'e': 2, 'o': 1}\n",
    "str1 = input()\n",
    "dic = {} \n",
    "for i in str1:\n",
    "    if i in dic: \n",
    "        dic[i] += 1\n",
    "    else:\n",
    "        dic[i] = 1 \n",
    "for j in dic:\n",
    "    print(\"{\",j,':',dic[j],\"}\",end=\" ,\")"
   ]
  },
  {
   "cell_type": "code",
   "execution_count": 8,
   "id": "a381d0d5",
   "metadata": {},
   "outputs": [
    {
     "name": "stdout",
     "output_type": "stream",
     "text": [
      "0\n",
      "1\n"
     ]
    }
   ],
   "source": [
    "# Q49 Write a Python function to calculate the factorial of a number (a non negative integer)\n",
    "\n",
    "def factorial(n):\n",
    "    if n == 0:\n",
    "        return 1\n",
    "    else:\n",
    "        return n * factorial(n-1)\n",
    "n=int(input())\n",
    "print(factorial(n))"
   ]
  },
  {
   "cell_type": "code",
   "execution_count": 35,
   "id": "e3e7c8ca",
   "metadata": {},
   "outputs": [
    {
     "name": "stdout",
     "output_type": "stream",
     "text": [
      "The number is outside the given range.\n"
     ]
    }
   ],
   "source": [
    "# Q50 Write a Python function to check whether a number is in a given range\n",
    "def test_range(n):\n",
    "    if n in range(3,9):\n",
    "        print( str(n),\" is in the range\")\n",
    "    else :\n",
    "        print(\"The number is outside the given range.\")\n",
    "test_range(10)"
   ]
  },
  {
   "cell_type": "code",
   "execution_count": 5,
   "id": "99b910c5",
   "metadata": {},
   "outputs": [
    {
     "name": "stdout",
     "output_type": "stream",
     "text": [
      "11\n",
      "Yes,this number 11 is palindrome\n"
     ]
    }
   ],
   "source": [
    "# Q51 Write a Python function that checks whether a passed string is palindrome or not\n",
    "def pali(n):\n",
    "    if n==n[::-1]:\n",
    "        print(\"Yes,this number\", n,\"is palindrome\")\n",
    "    else:\n",
    "        print(\"No,this number\", n,\"is not palindrome\")\n",
    "        return n\n",
    "pali(input())"
   ]
  },
  {
   "cell_type": "code",
   "execution_count": 1,
   "id": "8b09eac9",
   "metadata": {},
   "outputs": [
    {
     "name": "stdout",
     "output_type": "stream",
     "text": [
      "Phone number found: 415-555-4242\n"
     ]
    }
   ],
   "source": [
    "#Q52 How do you perform pattern matching in Python? Explain\n",
    "import re\n",
    "phoneNumRegex = re.compile(r'\\d\\d\\d-\\d\\d\\d-\\d\\d\\d\\d')\n",
    "mo = phoneNumRegex.search('My number is 415-555-4242.')\n",
    "print('Phone number found: ' + mo.group())\n"
   ]
  },
  {
   "cell_type": "code",
   "execution_count": null,
   "id": "b127e064",
   "metadata": {},
   "outputs": [],
   "source": [
    "# Q53 What is lambda function in python? What we call a function which is incomplete version of a function?\n",
    "# A Lambda Function in Python programming is an anonymous function or a function having no name. \n",
    "# It is a small and restricted function having no more than one line. \n",
    "# Just like a normal function, a Lambda function can have multiple arguments with one expression.\n"
   ]
  },
  {
   "cell_type": "code",
   "execution_count": null,
   "id": "68c6f4c0",
   "metadata": {},
   "outputs": [],
   "source": [
    "# Q54 How Many Basic Types Of Functions Are Available In Python?\n",
    "# 1.Python Built-in Functions\n",
    "# 2.Python Recursion Functions\n",
    "# 3.Python Lambda Functions\n",
    "# 4.Python User-defined Functions"
   ]
  },
  {
   "cell_type": "code",
   "execution_count": 8,
   "id": "7b652e69",
   "metadata": {},
   "outputs": [
    {
     "name": "stdout",
     "output_type": "stream",
     "text": [
      "[8]\n",
      "[5]\n"
     ]
    }
   ],
   "source": [
    "# Q54 How can you pick a random item from a list or tuple?\n",
    "import random\n",
    "\n",
    "list1 = [2, 2, 4, 6, 6, 8]\n",
    "tup1 = (2,4,3,5,6,7,6)\n",
    "\n",
    "a = 1\n",
    " \n",
    "print(random.sample(list1,a))\n",
    "print(random.sample(tup1,a))"
   ]
  },
  {
   "cell_type": "code",
   "execution_count": 9,
   "id": "f51f9a5e",
   "metadata": {},
   "outputs": [
    {
     "name": "stdout",
     "output_type": "stream",
     "text": [
      "444\n"
     ]
    }
   ],
   "source": [
    "#  How can you pick a random item from a range?\n",
    "import random\n",
    "\n",
    "number_list = [111, 222, 333, 444, 555]\n",
    "\n",
    "print(random.choice(number_list))"
   ]
  },
  {
   "cell_type": "code",
   "execution_count": 10,
   "id": "f058011d",
   "metadata": {},
   "outputs": [
    {
     "name": "stdout",
     "output_type": "stream",
     "text": [
      "0.19167317459159672\n"
     ]
    }
   ],
   "source": [
    "# How can you get a random number in python?\n",
    "import random\n",
    "n = random.random()\n",
    "print(n)"
   ]
  },
  {
   "cell_type": "code",
   "execution_count": 12,
   "id": "d2de392a",
   "metadata": {},
   "outputs": [
    {
     "name": "stdout",
     "output_type": "stream",
     "text": [
      "865\n"
     ]
    }
   ],
   "source": [
    "# How will you set the starting value in generating random numbers?\n",
    "import random\n",
    "for i in range(5):\n",
    " \n",
    "    random.seed(0)\n",
    " \n",
    "print(random.randint(1, 1000)) "
   ]
  },
  {
   "cell_type": "code",
   "execution_count": 17,
   "id": "cbabd242",
   "metadata": {},
   "outputs": [
    {
     "name": "stdout",
     "output_type": "stream",
     "text": [
      "[10, 20, 5, 16]\n"
     ]
    }
   ],
   "source": [
    "# How will you randomizes the items of a list in place?\n",
    "import random\n",
    "\n",
    "list = [20, 16, 10, 5];\n",
    "random.shuffle(list)\n",
    "print (list)"
   ]
  },
  {
   "cell_type": "code",
   "execution_count": null,
   "id": "bee2caf0",
   "metadata": {},
   "outputs": [],
   "source": [
    "# Write a Python program to read a random line from a file.\n",
    "import random\n",
    "def random_line(fname):\n",
    "    lines = open(fname).read().splitlines()\n",
    "    return random.choice(lines)\n",
    "print(random_line('test.txt'))\n"
   ]
  },
  {
   "cell_type": "code",
   "execution_count": 24,
   "id": "81c85cd5",
   "metadata": {},
   "outputs": [
    {
     "name": "stdout",
     "output_type": "stream",
     "text": [
      "0.017453292519943295\n"
     ]
    }
   ],
   "source": [
    "#  Write a Python program to convert degree to radian\n",
    "from math import pi\n",
    "def degrees_to_rads(deg):\n",
    "  return (deg * pi) / 180\n",
    "print(degrees_to_rads(1))"
   ]
  },
  {
   "cell_type": "code",
   "execution_count": 34,
   "id": "7008c8d3",
   "metadata": {},
   "outputs": [
    {
     "name": "stdout",
     "output_type": "stream",
     "text": [
      " Area of a Trapezium = 30.0\n"
     ]
    }
   ],
   "source": [
    "#  Write a Python program to calculate the area of a trapezoid\n",
    "def Trapezoid (a, b, h):\n",
    "    \n",
    "    Area = 0.5 * (a + b) * h\n",
    "\n",
    "    print(\" Area of a Trapezium =\",Area)\n",
    "\n",
    "Trapezoid (9, 6, 4)"
   ]
  },
  {
   "cell_type": "code",
   "execution_count": 36,
   "id": "db5e305f",
   "metadata": {},
   "outputs": [
    {
     "name": "stdout",
     "output_type": "stream",
     "text": [
      "Area of a Parallelogram :  30\n"
     ]
    }
   ],
   "source": [
    "# Write a Python program to calculate the area of a parallelogram\n",
    "def parallelogram(a,h):\n",
    "    \n",
    "    Area=a*h\n",
    "    print(\"Area of a Parallelogram : \", Area)\n",
    "\n",
    "parallelogram(5,6)"
   ]
  },
  {
   "cell_type": "code",
   "execution_count": 41,
   "id": "dbcfb3bb",
   "metadata": {},
   "outputs": [
    {
     "name": "stdout",
     "output_type": "stream",
     "text": [
      "Area of a cylinder : 251.2\n",
      "Volume of a Cylinder : 678.24\n"
     ]
    }
   ],
   "source": [
    "# Write a Python program to calculate surface volume and area of a cylinder(Area=2πrh+2πr^2)(V=π*r^2 *h)\n",
    "def area_of_a_cylinder(r,h):\n",
    "    \n",
    "    Area=(2*3.14*r*h)+(2*3.14*r**2)\n",
    "    print(\"Area of a cylinder :\",Area)\n",
    "\n",
    "area_of_a_cylinder(5,3)  \n",
    "\n",
    "def volume_of_a_cylinder(r,h):\n",
    "    \n",
    "    volume=3.14*(r**2)*h\n",
    "    print(\"Volume of a Cylinder :\",volume)\n",
    "volume_of_a_cylinder(6,6)"
   ]
  },
  {
   "cell_type": "code",
   "execution_count": 50,
   "id": "68b86d08",
   "metadata": {},
   "outputs": [
    {
     "name": "stdout",
     "output_type": "stream",
     "text": [
      "12\n"
     ]
    }
   ],
   "source": [
    "#  Write a Python program to returns sum of all divisors of a number\n",
    "def sum_div(number):\n",
    "    divisors = [1]\n",
    "    for i in range(2, number+1):\n",
    "        if (number % i)==0:\n",
    "            divisors.append(i)\n",
    "    return sum(divisors)\n",
    "print(sum_div(11))"
   ]
  },
  {
   "cell_type": "code",
   "execution_count": 63,
   "id": "957b36a7",
   "metadata": {},
   "outputs": [
    {
     "name": "stdout",
     "output_type": "stream",
     "text": [
      "Maximum:  7.25\n",
      "Minimum:  0.04\n"
     ]
    }
   ],
   "source": [
    "# Write a Python program to find the maximum and minimum numbers from the specified decimal numbers.\n",
    "from decimal import *\n",
    "data = (map(Decimal, '2.45 2.69 2.45 3.45 2.00 0.04 7.25'.split()))\n",
    "print(\"Maximum: \", max(data))\n",
    "\n",
    "\n",
    "from decimal import *\n",
    "data = (map(Decimal, '2.45 2.69 2.45 3.45 2.00 0.04 7.25'.split()))\n",
    "print(\"Minimum: \", min(data))"
   ]
  },
  {
   "cell_type": "code",
   "execution_count": null,
   "id": "f38d4239",
   "metadata": {},
   "outputs": [],
   "source": []
  }
 ],
 "metadata": {
  "kernelspec": {
   "display_name": "Python 3 (ipykernel)",
   "language": "python",
   "name": "python3"
  },
  "language_info": {
   "codemirror_mode": {
    "name": "ipython",
    "version": 3
   },
   "file_extension": ".py",
   "mimetype": "text/x-python",
   "name": "python",
   "nbconvert_exporter": "python",
   "pygments_lexer": "ipython3",
   "version": "3.9.12"
  }
 },
 "nbformat": 4,
 "nbformat_minor": 5
}
